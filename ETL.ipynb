{
  "nbformat": 4,
  "nbformat_minor": 0,
  "metadata": {
    "colab": {
      "provenance": [],
      "authorship_tag": "ABX9TyPSEu3POdEL/SN+nvektD3p",
      "include_colab_link": true
    },
    "kernelspec": {
      "name": "python3",
      "display_name": "Python 3"
    },
    "language_info": {
      "name": "python"
    }
  },
  "cells": [
    {
      "cell_type": "markdown",
      "metadata": {
        "id": "view-in-github",
        "colab_type": "text"
      },
      "source": [
        "<a href=\"https://colab.research.google.com/github/LuisSilvaS/Engenharia-de-Dados/blob/main/ETL.ipynb\" target=\"_parent\"><img src=\"https://colab.research.google.com/assets/colab-badge.svg\" alt=\"Open In Colab\"/></a>"
      ]
    },
    {
      "cell_type": "code",
      "execution_count": 26,
      "metadata": {
        "id": "sACB96cYLkGQ"
      },
      "outputs": [],
      "source": [
        "#Importando bibliotecas\n",
        "import pandas as pd"
      ]
    },
    {
      "cell_type": "code",
      "source": [
        "#ler arquivo e extrair os dados\n",
        "\n",
        "def read_files(path, name_file, year_date, type_file):\n",
        "    \n",
        "    _file = f'{path}{name_file}{year_date}.{type_file}'\n",
        "    \n",
        "    colspecs=[(2,10),\n",
        "              (10,12),\n",
        "              (12,24),\n",
        "              (27,39),\n",
        "              (56,69),\n",
        "              (69,82),\n",
        "              (82,95),\n",
        "              (108,121),\n",
        "              (152,170),\n",
        "              (170,188)\n",
        "              ]\n",
        "    \n",
        "    names = ['data_pregao','codbdi','sigla_acao','nome_acao','preco_abertura','preco_max', 'preco_minimo','preco_fechamento', 'qtd_negocios', 'volume_negocios']\n",
        "    \n",
        "    df = pd.read_fwf('/content/COTAHIST_A2020.TXT', colspecs=colspecs, names = names , skiprows=1 )\n",
        "        \n",
        "    return df"
      ],
      "metadata": {
        "id": "B1eWeQfWU9zW"
      },
      "execution_count": 27,
      "outputs": []
    },
    {
      "cell_type": "code",
      "source": [
        "#Filtrar ações\n",
        "\n",
        "def filter_stocks(df):\n",
        "    df = df[df['codbdi'] == 2 ]\n",
        "    df = df.drop(['codbdi'],1)\n",
        "    \n",
        "    return df"
      ],
      "metadata": {
        "id": "zEjtZELzVvie"
      },
      "execution_count": 28,
      "outputs": []
    },
    {
      "cell_type": "code",
      "source": [
        "#Ajustar campo de data\n",
        "\n",
        "def parse_date(df):\n",
        "    df['data_pregao'] = pd.to_datetime(df['data_pregao'], format='%Y%m%d')    \n",
        "    \n",
        "    return df"
      ],
      "metadata": {
        "id": "HjPSsugVVwJm"
      },
      "execution_count": 29,
      "outputs": []
    },
    {
      "cell_type": "code",
      "source": [
        "#Ajuste nos campos de valores\n",
        "\n",
        "def parse_values(df):\n",
        "    df['preco_abertura'] = (df['preco_abertura'] /100).astype(float)\n",
        "    df['preco_maximo'] = (df['preco_max'] /100).astype(float)\n",
        "    df['preco_minimo'] = (df['preco_minimo'] /100).astype(float)\n",
        "    df['preco_fechamento'] = (df['preco_fechamento'] /100).astype(float)\n",
        "    \n",
        "    return df"
      ],
      "metadata": {
        "id": "ECCWTJ9LXMeA"
      },
      "execution_count": 30,
      "outputs": []
    },
    {
      "cell_type": "code",
      "source": [
        "#juntando os arquivos\n",
        "\n",
        "def concat_files(path, name_file, year_date, type_file, final_file):\n",
        "   \n",
        "        \n",
        "    for i,y in enumerate(year_date):\n",
        "        df = read_files(path, name_file, y, type_file)\n",
        "        df = filter_stocks(df)\n",
        "        df = parse_date(df)\n",
        "        df = parse_values(df)\n",
        "        \n",
        "        if i ==0:\n",
        "            df_final = df\n",
        "        else:\n",
        "            df_final = pd.concat([df_final,df])\n",
        "    \n",
        "    df_final.to_csv(f'/content/COTAHIST_A2020.TXT', index=False)   "
      ],
      "metadata": {
        "id": "tM5OJ8NyXNtc"
      },
      "execution_count": 31,
      "outputs": []
    },
    {
      "cell_type": "code",
      "source": [
        "#Executando programa de etl\n",
        "\n",
        "year_date = ['2020']\n",
        "\n",
        "path=f'/content/cotahist'\n",
        "\n",
        "name_file='COTAHIST_A'\n",
        "\n",
        "type_file ='txt'\n",
        "\n",
        "final_file = 'all_bovespa.csv'\n",
        "\n",
        "concat_files( path, name_file, year_date,type_file, final_file)"
      ],
      "metadata": {
        "colab": {
          "base_uri": "https://localhost:8080/"
        },
        "id": "7lt0py-LXP2j",
        "outputId": "27fdb2a8-d20e-4b1e-b9d3-f0d0066dc9f6"
      },
      "execution_count": 32,
      "outputs": [
        {
          "output_type": "stream",
          "name": "stderr",
          "text": [
            "/usr/local/lib/python3.7/dist-packages/ipykernel_launcher.py:5: FutureWarning: In a future version of pandas all arguments of DataFrame.drop except for the argument 'labels' will be keyword-only\n",
            "  \"\"\"\n"
          ]
        }
      ]
    }
  ]
}